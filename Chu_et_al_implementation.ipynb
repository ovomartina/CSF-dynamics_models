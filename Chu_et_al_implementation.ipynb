{
  "cells": [
    {
      "cell_type": "markdown",
      "metadata": {
        "id": "view-in-github",
        "colab_type": "text"
      },
      "source": [
        "<a href=\"https://colab.research.google.com/github/ovomartina/CSF-dynamics_models/blob/main/Chu_et_al_implementation.ipynb\" target=\"_parent\"><img src=\"https://colab.research.google.com/assets/colab-badge.svg\" alt=\"Open In Colab\"/></a>"
      ]
    },
    {
      "cell_type": "code",
      "execution_count": 6,
      "metadata": {
        "id": "_mAiToADd0Vt",
        "colab": {
          "base_uri": "https://localhost:8080/",
          "height": 322
        },
        "outputId": "2c754f5c-b632-434b-ad68-b8564305b2db"
      },
      "outputs": [
        {
          "output_type": "error",
          "ename": "KeyboardInterrupt",
          "evalue": "",
          "traceback": [
            "\u001b[0;31m---------------------------------------------------------------------------\u001b[0m",
            "\u001b[0;31mKeyboardInterrupt\u001b[0m                         Traceback (most recent call last)",
            "\u001b[0;32m<ipython-input-6-fb6911b2b220>\u001b[0m in \u001b[0;36m<cell line: 0>\u001b[0;34m()\u001b[0m\n\u001b[1;32m     91\u001b[0m \u001b[0mt_eval\u001b[0m \u001b[0;34m=\u001b[0m \u001b[0;34m(\u001b[0m\u001b[0mnp\u001b[0m\u001b[0;34m.\u001b[0m\u001b[0marange\u001b[0m\u001b[0;34m(\u001b[0m\u001b[0;36m0\u001b[0m\u001b[0;34m,\u001b[0m \u001b[0mtotal_time\u001b[0m\u001b[0;34m,\u001b[0m \u001b[0;36m0.04\u001b[0m\u001b[0;34m)\u001b[0m\u001b[0;34m)\u001b[0m\u001b[0;34m\u001b[0m\u001b[0;34m\u001b[0m\u001b[0m\n\u001b[1;32m     92\u001b[0m \u001b[0;31m# Solve the ODE system\u001b[0m\u001b[0;34m\u001b[0m\u001b[0;34m\u001b[0m\u001b[0m\n\u001b[0;32m---> 93\u001b[0;31m \u001b[0msolution\u001b[0m \u001b[0;34m=\u001b[0m \u001b[0msolve_ivp\u001b[0m\u001b[0;34m(\u001b[0m\u001b[0mcsf_dynamics\u001b[0m\u001b[0;34m,\u001b[0m \u001b[0mt_span\u001b[0m\u001b[0;34m,\u001b[0m \u001b[0my0\u001b[0m\u001b[0;34m)\u001b[0m\u001b[0;34m\u001b[0m\u001b[0;34m\u001b[0m\u001b[0m\n\u001b[0m",
            "\u001b[0;32m/usr/local/lib/python3.11/dist-packages/scipy/integrate/_ivp/ivp.py\u001b[0m in \u001b[0;36msolve_ivp\u001b[0;34m(fun, t_span, y0, method, t_eval, dense_output, events, vectorized, args, **options)\u001b[0m\n\u001b[1;32m    653\u001b[0m     \u001b[0mstatus\u001b[0m \u001b[0;34m=\u001b[0m \u001b[0;32mNone\u001b[0m\u001b[0;34m\u001b[0m\u001b[0;34m\u001b[0m\u001b[0m\n\u001b[1;32m    654\u001b[0m     \u001b[0;32mwhile\u001b[0m \u001b[0mstatus\u001b[0m \u001b[0;32mis\u001b[0m \u001b[0;32mNone\u001b[0m\u001b[0;34m:\u001b[0m\u001b[0;34m\u001b[0m\u001b[0;34m\u001b[0m\u001b[0m\n\u001b[0;32m--> 655\u001b[0;31m         \u001b[0mmessage\u001b[0m \u001b[0;34m=\u001b[0m \u001b[0msolver\u001b[0m\u001b[0;34m.\u001b[0m\u001b[0mstep\u001b[0m\u001b[0;34m(\u001b[0m\u001b[0;34m)\u001b[0m\u001b[0;34m\u001b[0m\u001b[0;34m\u001b[0m\u001b[0m\n\u001b[0m\u001b[1;32m    656\u001b[0m \u001b[0;34m\u001b[0m\u001b[0m\n\u001b[1;32m    657\u001b[0m         \u001b[0;32mif\u001b[0m \u001b[0msolver\u001b[0m\u001b[0;34m.\u001b[0m\u001b[0mstatus\u001b[0m \u001b[0;34m==\u001b[0m \u001b[0;34m'finished'\u001b[0m\u001b[0;34m:\u001b[0m\u001b[0;34m\u001b[0m\u001b[0;34m\u001b[0m\u001b[0m\n",
            "\u001b[0;32m/usr/local/lib/python3.11/dist-packages/scipy/integrate/_ivp/base.py\u001b[0m in \u001b[0;36mstep\u001b[0;34m(self)\u001b[0m\n\u001b[1;32m    195\u001b[0m         \u001b[0;32melse\u001b[0m\u001b[0;34m:\u001b[0m\u001b[0;34m\u001b[0m\u001b[0;34m\u001b[0m\u001b[0m\n\u001b[1;32m    196\u001b[0m             \u001b[0mt\u001b[0m \u001b[0;34m=\u001b[0m \u001b[0mself\u001b[0m\u001b[0;34m.\u001b[0m\u001b[0mt\u001b[0m\u001b[0;34m\u001b[0m\u001b[0;34m\u001b[0m\u001b[0m\n\u001b[0;32m--> 197\u001b[0;31m             \u001b[0msuccess\u001b[0m\u001b[0;34m,\u001b[0m \u001b[0mmessage\u001b[0m \u001b[0;34m=\u001b[0m \u001b[0mself\u001b[0m\u001b[0;34m.\u001b[0m\u001b[0m_step_impl\u001b[0m\u001b[0;34m(\u001b[0m\u001b[0;34m)\u001b[0m\u001b[0;34m\u001b[0m\u001b[0;34m\u001b[0m\u001b[0m\n\u001b[0m\u001b[1;32m    198\u001b[0m \u001b[0;34m\u001b[0m\u001b[0m\n\u001b[1;32m    199\u001b[0m             \u001b[0;32mif\u001b[0m \u001b[0;32mnot\u001b[0m \u001b[0msuccess\u001b[0m\u001b[0;34m:\u001b[0m\u001b[0;34m\u001b[0m\u001b[0;34m\u001b[0m\u001b[0m\n",
            "\u001b[0;32m/usr/local/lib/python3.11/dist-packages/scipy/integrate/_ivp/rk.py\u001b[0m in \u001b[0;36m_step_impl\u001b[0;34m(self)\u001b[0m\n\u001b[1;32m    142\u001b[0m             \u001b[0mh_abs\u001b[0m \u001b[0;34m=\u001b[0m \u001b[0mnp\u001b[0m\u001b[0;34m.\u001b[0m\u001b[0mabs\u001b[0m\u001b[0;34m(\u001b[0m\u001b[0mh\u001b[0m\u001b[0;34m)\u001b[0m\u001b[0;34m\u001b[0m\u001b[0;34m\u001b[0m\u001b[0m\n\u001b[1;32m    143\u001b[0m \u001b[0;34m\u001b[0m\u001b[0m\n\u001b[0;32m--> 144\u001b[0;31m             y_new, f_new = rk_step(self.fun, t, y, self.f, h, self.A,\n\u001b[0m\u001b[1;32m    145\u001b[0m                                    self.B, self.C, self.K)\n\u001b[1;32m    146\u001b[0m             \u001b[0mscale\u001b[0m \u001b[0;34m=\u001b[0m \u001b[0matol\u001b[0m \u001b[0;34m+\u001b[0m \u001b[0mnp\u001b[0m\u001b[0;34m.\u001b[0m\u001b[0mmaximum\u001b[0m\u001b[0;34m(\u001b[0m\u001b[0mnp\u001b[0m\u001b[0;34m.\u001b[0m\u001b[0mabs\u001b[0m\u001b[0;34m(\u001b[0m\u001b[0my\u001b[0m\u001b[0;34m)\u001b[0m\u001b[0;34m,\u001b[0m \u001b[0mnp\u001b[0m\u001b[0;34m.\u001b[0m\u001b[0mabs\u001b[0m\u001b[0;34m(\u001b[0m\u001b[0my_new\u001b[0m\u001b[0;34m)\u001b[0m\u001b[0;34m)\u001b[0m \u001b[0;34m*\u001b[0m \u001b[0mrtol\u001b[0m\u001b[0;34m\u001b[0m\u001b[0;34m\u001b[0m\u001b[0m\n",
            "\u001b[0;32m/usr/local/lib/python3.11/dist-packages/scipy/integrate/_ivp/rk.py\u001b[0m in \u001b[0;36mrk_step\u001b[0;34m(fun, t, y, f, h, A, B, C, K)\u001b[0m\n\u001b[1;32m     65\u001b[0m \u001b[0;34m\u001b[0m\u001b[0m\n\u001b[1;32m     66\u001b[0m     \u001b[0my_new\u001b[0m \u001b[0;34m=\u001b[0m \u001b[0my\u001b[0m \u001b[0;34m+\u001b[0m \u001b[0mh\u001b[0m \u001b[0;34m*\u001b[0m \u001b[0mnp\u001b[0m\u001b[0;34m.\u001b[0m\u001b[0mdot\u001b[0m\u001b[0;34m(\u001b[0m\u001b[0mK\u001b[0m\u001b[0;34m[\u001b[0m\u001b[0;34m:\u001b[0m\u001b[0;34m-\u001b[0m\u001b[0;36m1\u001b[0m\u001b[0;34m]\u001b[0m\u001b[0;34m.\u001b[0m\u001b[0mT\u001b[0m\u001b[0;34m,\u001b[0m \u001b[0mB\u001b[0m\u001b[0;34m)\u001b[0m\u001b[0;34m\u001b[0m\u001b[0;34m\u001b[0m\u001b[0m\n\u001b[0;32m---> 67\u001b[0;31m     \u001b[0mf_new\u001b[0m \u001b[0;34m=\u001b[0m \u001b[0mfun\u001b[0m\u001b[0;34m(\u001b[0m\u001b[0mt\u001b[0m \u001b[0;34m+\u001b[0m \u001b[0mh\u001b[0m\u001b[0;34m,\u001b[0m \u001b[0my_new\u001b[0m\u001b[0;34m)\u001b[0m\u001b[0;34m\u001b[0m\u001b[0;34m\u001b[0m\u001b[0m\n\u001b[0m\u001b[1;32m     68\u001b[0m \u001b[0;34m\u001b[0m\u001b[0m\n\u001b[1;32m     69\u001b[0m     \u001b[0mK\u001b[0m\u001b[0;34m[\u001b[0m\u001b[0;34m-\u001b[0m\u001b[0;36m1\u001b[0m\u001b[0;34m]\u001b[0m \u001b[0;34m=\u001b[0m \u001b[0mf_new\u001b[0m\u001b[0;34m\u001b[0m\u001b[0;34m\u001b[0m\u001b[0m\n",
            "\u001b[0;32m/usr/local/lib/python3.11/dist-packages/scipy/integrate/_ivp/base.py\u001b[0m in \u001b[0;36mfun\u001b[0;34m(t, y)\u001b[0m\n\u001b[1;32m    152\u001b[0m         \u001b[0;32mdef\u001b[0m \u001b[0mfun\u001b[0m\u001b[0;34m(\u001b[0m\u001b[0mt\u001b[0m\u001b[0;34m,\u001b[0m \u001b[0my\u001b[0m\u001b[0;34m)\u001b[0m\u001b[0;34m:\u001b[0m\u001b[0;34m\u001b[0m\u001b[0;34m\u001b[0m\u001b[0m\n\u001b[1;32m    153\u001b[0m             \u001b[0mself\u001b[0m\u001b[0;34m.\u001b[0m\u001b[0mnfev\u001b[0m \u001b[0;34m+=\u001b[0m \u001b[0;36m1\u001b[0m\u001b[0;34m\u001b[0m\u001b[0;34m\u001b[0m\u001b[0m\n\u001b[0;32m--> 154\u001b[0;31m             \u001b[0;32mreturn\u001b[0m \u001b[0mself\u001b[0m\u001b[0;34m.\u001b[0m\u001b[0mfun_single\u001b[0m\u001b[0;34m(\u001b[0m\u001b[0mt\u001b[0m\u001b[0;34m,\u001b[0m \u001b[0my\u001b[0m\u001b[0;34m)\u001b[0m\u001b[0;34m\u001b[0m\u001b[0;34m\u001b[0m\u001b[0m\n\u001b[0m\u001b[1;32m    155\u001b[0m \u001b[0;34m\u001b[0m\u001b[0m\n\u001b[1;32m    156\u001b[0m         \u001b[0mself\u001b[0m\u001b[0;34m.\u001b[0m\u001b[0mfun\u001b[0m \u001b[0;34m=\u001b[0m \u001b[0mfun\u001b[0m\u001b[0;34m\u001b[0m\u001b[0;34m\u001b[0m\u001b[0m\n",
            "\u001b[0;32m/usr/local/lib/python3.11/dist-packages/scipy/integrate/_ivp/base.py\u001b[0m in \u001b[0;36mfun_wrapped\u001b[0;34m(t, y)\u001b[0m\n\u001b[1;32m     21\u001b[0m \u001b[0;34m\u001b[0m\u001b[0m\n\u001b[1;32m     22\u001b[0m     \u001b[0;32mdef\u001b[0m \u001b[0mfun_wrapped\u001b[0m\u001b[0;34m(\u001b[0m\u001b[0mt\u001b[0m\u001b[0;34m,\u001b[0m \u001b[0my\u001b[0m\u001b[0;34m)\u001b[0m\u001b[0;34m:\u001b[0m\u001b[0;34m\u001b[0m\u001b[0;34m\u001b[0m\u001b[0m\n\u001b[0;32m---> 23\u001b[0;31m         \u001b[0;32mreturn\u001b[0m \u001b[0mnp\u001b[0m\u001b[0;34m.\u001b[0m\u001b[0masarray\u001b[0m\u001b[0;34m(\u001b[0m\u001b[0mfun\u001b[0m\u001b[0;34m(\u001b[0m\u001b[0mt\u001b[0m\u001b[0;34m,\u001b[0m \u001b[0my\u001b[0m\u001b[0;34m)\u001b[0m\u001b[0;34m,\u001b[0m \u001b[0mdtype\u001b[0m\u001b[0;34m=\u001b[0m\u001b[0mdtype\u001b[0m\u001b[0;34m)\u001b[0m\u001b[0;34m\u001b[0m\u001b[0;34m\u001b[0m\u001b[0m\n\u001b[0m\u001b[1;32m     24\u001b[0m \u001b[0;34m\u001b[0m\u001b[0m\n\u001b[1;32m     25\u001b[0m     \u001b[0;32mreturn\u001b[0m \u001b[0mfun_wrapped\u001b[0m\u001b[0;34m,\u001b[0m \u001b[0my0\u001b[0m\u001b[0;34m\u001b[0m\u001b[0;34m\u001b[0m\u001b[0m\n",
            "\u001b[0;32m<ipython-input-6-fb6911b2b220>\u001b[0m in \u001b[0;36mcsf_dynamics\u001b[0;34m(t, y)\u001b[0m\n\u001b[1;32m     74\u001b[0m \u001b[0;34m\u001b[0m\u001b[0m\n\u001b[1;32m     75\u001b[0m     \u001b[0;31m# Compute CPP_m as the mean of last 6s\u001b[0m\u001b[0;34m\u001b[0m\u001b[0;34m\u001b[0m\u001b[0m\n\u001b[0;32m---> 76\u001b[0;31m     \u001b[0mpast_cpp\u001b[0m \u001b[0;34m=\u001b[0m \u001b[0;34m[\u001b[0m\u001b[0mcpp\u001b[0m \u001b[0;32mfor\u001b[0m \u001b[0mtime\u001b[0m\u001b[0;34m,\u001b[0m \u001b[0mcpp\u001b[0m \u001b[0;32min\u001b[0m \u001b[0mcpp_history\u001b[0m \u001b[0;32mif\u001b[0m \u001b[0mt\u001b[0m \u001b[0;34m-\u001b[0m \u001b[0mtime\u001b[0m \u001b[0;34m<=\u001b[0m \u001b[0;36m6\u001b[0m\u001b[0;34m]\u001b[0m  \u001b[0;31m# Filter last 6 seconds\u001b[0m\u001b[0;34m\u001b[0m\u001b[0;34m\u001b[0m\u001b[0m\n\u001b[0m\u001b[1;32m     77\u001b[0m     \u001b[0mCPP_m\u001b[0m \u001b[0;34m=\u001b[0m \u001b[0mnp\u001b[0m\u001b[0;34m.\u001b[0m\u001b[0mmean\u001b[0m\u001b[0;34m(\u001b[0m\u001b[0mpast_cpp\u001b[0m\u001b[0;34m)\u001b[0m \u001b[0;32mif\u001b[0m \u001b[0mpast_cpp\u001b[0m \u001b[0;32melse\u001b[0m \u001b[0mCPP\u001b[0m\u001b[0;34m\u001b[0m\u001b[0;34m\u001b[0m\u001b[0m\n\u001b[1;32m     78\u001b[0m     \u001b[0mCVR\u001b[0m \u001b[0;34m=\u001b[0m \u001b[0mCVR_m\u001b[0m\u001b[0;34m(\u001b[0m\u001b[0mCPP_m\u001b[0m\u001b[0;34m)\u001b[0m\u001b[0;34m\u001b[0m\u001b[0;34m\u001b[0m\u001b[0m\n",
            "\u001b[0;32m<ipython-input-6-fb6911b2b220>\u001b[0m in \u001b[0;36m<listcomp>\u001b[0;34m(.0)\u001b[0m\n\u001b[1;32m     74\u001b[0m \u001b[0;34m\u001b[0m\u001b[0m\n\u001b[1;32m     75\u001b[0m     \u001b[0;31m# Compute CPP_m as the mean of last 6s\u001b[0m\u001b[0;34m\u001b[0m\u001b[0;34m\u001b[0m\u001b[0m\n\u001b[0;32m---> 76\u001b[0;31m     \u001b[0mpast_cpp\u001b[0m \u001b[0;34m=\u001b[0m \u001b[0;34m[\u001b[0m\u001b[0mcpp\u001b[0m \u001b[0;32mfor\u001b[0m \u001b[0mtime\u001b[0m\u001b[0;34m,\u001b[0m \u001b[0mcpp\u001b[0m \u001b[0;32min\u001b[0m \u001b[0mcpp_history\u001b[0m \u001b[0;32mif\u001b[0m \u001b[0mt\u001b[0m \u001b[0;34m-\u001b[0m \u001b[0mtime\u001b[0m \u001b[0;34m<=\u001b[0m \u001b[0;36m6\u001b[0m\u001b[0;34m]\u001b[0m  \u001b[0;31m# Filter last 6 seconds\u001b[0m\u001b[0;34m\u001b[0m\u001b[0;34m\u001b[0m\u001b[0m\n\u001b[0m\u001b[1;32m     77\u001b[0m     \u001b[0mCPP_m\u001b[0m \u001b[0;34m=\u001b[0m \u001b[0mnp\u001b[0m\u001b[0;34m.\u001b[0m\u001b[0mmean\u001b[0m\u001b[0;34m(\u001b[0m\u001b[0mpast_cpp\u001b[0m\u001b[0;34m)\u001b[0m \u001b[0;32mif\u001b[0m \u001b[0mpast_cpp\u001b[0m \u001b[0;32melse\u001b[0m \u001b[0mCPP\u001b[0m\u001b[0;34m\u001b[0m\u001b[0;34m\u001b[0m\u001b[0m\n\u001b[1;32m     78\u001b[0m     \u001b[0mCVR\u001b[0m \u001b[0;34m=\u001b[0m \u001b[0mCVR_m\u001b[0m\u001b[0;34m(\u001b[0m\u001b[0mCPP_m\u001b[0m\u001b[0;34m)\u001b[0m\u001b[0;34m\u001b[0m\u001b[0;34m\u001b[0m\u001b[0m\n",
            "\u001b[0;31mKeyboardInterrupt\u001b[0m: "
          ]
        }
      ],
      "source": [
        "import numpy as np\n",
        "import matplotlib.pyplot as plt\n",
        "from scipy.integrate import solve_ivp\n",
        "from scipy.interpolate import interp1d\n",
        "\n",
        "# Choose test type: 'THCT', 'infusion', or 'ABP_drop'\n",
        "test = 'THCT'\n",
        "\n",
        "# Global list to store CPP history\n",
        "cpp_history = []\n",
        "ABP_history = []\n",
        "\n",
        "# Define time parameters\n",
        "total_time = 200 # 2 * 60  # 2 minutes in seconds\n",
        "step_duration = 1 * 60  # 1 minutes in seconds per step\n",
        "\n",
        "# Parameters (example values, adjust as needed)\n",
        "Ra =  0.1 # [mmHg·min/mL] Arterial resistance\n",
        "CVR_max = 0.5 # [mmHg·min/mL]\n",
        "CVR_min = 0.1 # [mmHg·min/mL]\n",
        "CPP_max = 95 # [mmHg]\n",
        "CPP_min = 55 # [mmHg]\n",
        "CPP_offset = -30 #[mmHg]\n",
        "Caspan = 0.01 # [mL/mmHg]\n",
        "Coffset = 0.05 # [mL/mmHg]\n",
        "Cv = 1.0    # [mL/mmHg] Compliance of vein\n",
        "Rb0 = 0.7    # [mmHg·min/mL] Resistance between vein and CSF\n",
        "E = 0.05*30 # [1/mL] Pathological value\n",
        "P0 = 5. # [mmHg]\n",
        "P_breakpoint = 10. # [mmHg]\n",
        "If = 0.3    # [mL/min]\n",
        "\n",
        "# Values not mentioned in the paper\n",
        "Pss = 7.4 # [mmHg] from https://pmc.ncbi.nlm.nih.gov/articles/PMC8447530/pdf/12987_2021_Article_274.pdf\n",
        "Risf_span = 20 # [mmHg·min/mL] from https://pmc.ncbi.nlm.nih.gov/articles/PMC8447530/pdf/12987_2021_Article_274.pdf\n",
        "Risf_offset = 0\n",
        "RCSF = 16*30 # Pathological value of CSF drainage resistance [mmHg·min/mL]\n",
        "# Initial conditions\n",
        "Pa0 = 120.0  # Initial arterial pressure\n",
        "Pv0 = 12.0  # Initial venous pressure\n",
        "Pi0 = 10.0  # Initial intracranial pressure\n",
        "y0 = [Pa0, Pv0, Pi0]\n",
        "\n",
        "def CVR_m(CPP_m):\n",
        "  return CVR_max-(CVR_max-CVR_min)/(1+((CPP_m+CPP_offset)/(CPP_max-CPP_min))**6)\n",
        "\n",
        "# Define the ODE system\n",
        "def csf_dynamics(t, y):\n",
        "    # Unpacking variables\n",
        "    Pa, Pv, Pi = y\n",
        "\n",
        "    Rb = 10_000 if Pv <= Pi else Rb0 / (Pv - Pi)\n",
        "\n",
        "    Ci = 1 / (E * (Pi - P0)) if Pi >= P_breakpoint else 1 / (E * (P_breakpoint - P0)) # Intracranial compliance\n",
        "\n",
        "    I_inf=0\n",
        "    # Select ABP based on test scenario\n",
        "    I_inf = 0\n",
        "    if test == 'THCT':\n",
        "        ABP_mean = 90 if 13 <= t < 23 else 120 if t < 12 or t >= 24 else 120 - 30 * (t - 12) if t < 13 else 90 + 30 * (t - 23)\n",
        "        ABP = ABP_mean + 20 * np.sin(2 * np.pi * t / 1)\n",
        "    elif test == 'infusion':\n",
        "        ABP_mean = 120\n",
        "        I_inf = 5.0 if 30 < t < 80 else 0.0\n",
        "        ABP = ABP_mean + 20 * np.sin(2 * np.pi * t / 1)\n",
        "    elif test == 'ABP_drop':\n",
        "        ABP = 70 if t > 60 else 120\n",
        "\n",
        "    ABP_history.append((t, ABP))\n",
        "\n",
        "    # Compute CPP (Cerebral Perfusion Pressure)\n",
        "    CPP = ABP - Pi\n",
        "    cpp_history.append((t, CPP))\n",
        "\n",
        "    # Compute CPP_m as the mean of last 6s\n",
        "    past_cpp = [cpp for time, cpp in cpp_history if t - time <= 6]  # Filter last 6 seconds\n",
        "    CPP_m = np.mean(past_cpp) if past_cpp else CPP\n",
        "    CVR = CVR_m(CPP_m)\n",
        "    Risf = Risf_span/CVR + Risf_offset\n",
        "    Ca = Caspan/(CVR/CVR_min)+Coffset\n",
        "\n",
        "\n",
        "    # ODEs from the given equations\n",
        "    dPi_dt = (1 / Ci) * ((ABP - Pa) / Ra - (Pv - Pss) / Rb - (Pi - Pss) / RCSF - Pi/Risf) # #Node C\n",
        "    dPa_dt = dPi_dt + (1 / Ca) * ((ABP - Pa) / Ra - (Pa - Pv) / CVR - If-I_inf) # Node A\n",
        "    dPv_dt = dPi_dt + (1 / Cv) * ((Pa - Pv) / CVR - (Pv - Pss) / Rb) # Node B\n",
        "    return [dPa_dt, dPv_dt, dPi_dt]\n",
        "\n",
        "# Time span\n",
        "t_span = (0, total_time)\n",
        "t_eval = (np.arange(0, total_time, 0.04))\n",
        "# Solve the ODE system\n",
        "solution = solve_ivp(csf_dynamics, t_span, y0)\n"
      ]
    },
    {
      "cell_type": "code",
      "execution_count": null,
      "metadata": {
        "id": "tDX3pWxTJr10"
      },
      "outputs": [],
      "source": [
        "# Plot results\n",
        "plt.figure(figsize=(10, 6))\n",
        "\n",
        "# Pressure Evolution Plot\n",
        "plt.plot(solution.t, solution.y[0], label=\"Pa (Arterial Pressure)\", color='r')\n",
        "plt.plot(solution.t, solution.y[1], label=\"Pv (Venous Pressure)\", color='b')\n",
        "plt.plot(solution.t, solution.y[2], label=\"Pi (Intracranial Pressure)\", color='g')\n",
        "plt.xlabel(\"Time (s)\")\n",
        "plt.ylabel(\"Pressure (mmHg)\")\n",
        "plt.title(\"CSF Dynamics: Pressure Evolution Over Time\")\n",
        "plt.legend()\n",
        "plt.grid()\n",
        "\n",
        "plt.tight_layout()\n",
        "plt.show()"
      ]
    },
    {
      "cell_type": "code",
      "source": [
        "# CPP vs. CVR plot\n",
        "CPP_m = np.linspace(0,200,201)\n",
        "CVR = CVR_m(CPP_m)\n",
        "plt.figure(figsize=(10, 6))\n",
        "plt.plot(CPP_m,CVR)\n",
        "plt.show()"
      ],
      "metadata": {
        "id": "up7uP_yq0k1p"
      },
      "execution_count": null,
      "outputs": []
    },
    {
      "cell_type": "code",
      "execution_count": null,
      "metadata": {
        "id": "bOGend8bRWos"
      },
      "outputs": [],
      "source": [
        "# ABP history plot\n",
        "plt.figure(figsize=(10, 6))\n",
        "times, abp_values = zip(*ABP_history)\n",
        "plt.plot(times, abp_values, label=\"ABP (Arterial Blood Pressure)\", color='orange')\n",
        "plt.title(\"ABP Over Time\")\n",
        "plt.xlabel(\"Time [s]\")\n",
        "plt.ylabel(\"ABP [mmHg]\")\n",
        "plt.show()"
      ]
    },
    {
      "cell_type": "code",
      "source": [
        "\n",
        "# CBF Calculation\n",
        "plt.figure(figsize=(10, 6))\n",
        "abp_interp_func = interp1d(times, abp_values, kind='linear', bounds_error=False, fill_value=\"extrapolate\")\n",
        "abp_resampled = abp_interp_func(solution.t)\n",
        "CBF = (abp_resampled - solution.y[0]) / Ra\n",
        "plt.plot(solution.t, CBF, label=\"CBF\", color='orange')\n",
        "plt.title(\"Cerebral Blood Flow Over Time\")\n",
        "plt.xlabel(\"Time (s)\")\n",
        "plt.ylabel(\"CBF\")\n",
        "plt.show()"
      ],
      "metadata": {
        "id": "bpk6Q2nVIkyy"
      },
      "execution_count": null,
      "outputs": []
    },
    {
      "cell_type": "code",
      "source": [],
      "metadata": {
        "id": "Syhs2SiAJIhT"
      },
      "execution_count": null,
      "outputs": []
    }
  ],
  "metadata": {
    "colab": {
      "provenance": [],
      "toc_visible": true,
      "authorship_tag": "ABX9TyPzj0A1UV+onMBPx+QhNINd",
      "include_colab_link": true
    },
    "kernelspec": {
      "display_name": "Python 3",
      "name": "python3"
    },
    "language_info": {
      "name": "python"
    }
  },
  "nbformat": 4,
  "nbformat_minor": 0
}